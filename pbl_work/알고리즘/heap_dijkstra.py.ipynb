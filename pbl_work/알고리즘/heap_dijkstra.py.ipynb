{
 "cells": [
  {
   "cell_type": "code",
   "execution_count": null,
   "metadata": {},
   "outputs": [],
   "source": [
    "#다익스트라"
   ]
  },
  {
   "cell_type": "code",
   "execution_count": 19,
   "metadata": {},
   "outputs": [],
   "source": [
    "import heapq\n",
    "import numpy as np"
   ]
  },
  {
   "cell_type": "code",
   "execution_count": 20,
   "metadata": {},
   "outputs": [],
   "source": [
    "q=[]"
   ]
  },
  {
   "cell_type": "code",
   "execution_count": 21,
   "metadata": {},
   "outputs": [],
   "source": [
    "#N은 노드의 개수 E는 간선의 개수\n",
    "N = 5\n",
    "E = 5\n",
    "StartNode =0\n",
    "INF = 20000"
   ]
  },
  {
   "cell_type": "code",
   "execution_count": 22,
   "metadata": {},
   "outputs": [],
   "source": [
    "nodemap = [{} for i in range(N)]"
   ]
  },
  {
   "cell_type": "code",
   "execution_count": 31,
   "metadata": {},
   "outputs": [
    {
     "name": "stdout",
     "output_type": "stream",
     "text": [
      "0 1 1\n",
      "1 2 3\n",
      "1 3 1\n",
      "2 3 1\n",
      "3 4 5\n"
     ]
    }
   ],
   "source": [
    "#f,s,v 는 각각 시작노드 도착노드 간선의 길이\n",
    "for i in range(E) :\n",
    "    f,s,v = map(int,input().split())\n",
    "    nodemap[f][s]=v"
   ]
  },
  {
   "cell_type": "code",
   "execution_count": 33,
   "metadata": {},
   "outputs": [],
   "source": [
    "\n",
    "def heap_dijkstra(s) :\n",
    "    start = s\n",
    "    dist = [20000 for i in range(N)]\n",
    "    heapq.heappush(q,s)\n",
    "    dist[s]=0\n",
    "    while q:\n",
    "        cur = heapq.heappop(q)\n",
    "        for n in nodemap[cur].keys() :\n",
    "            if dist[n]> dist[cur]+nodemap[cur][n] :\n",
    "                dist[n]=dist[cur]+nodemap[cur][n]\n",
    "                heapq.heappush(q,n)\n",
    "            else :\n",
    "                continue\n",
    "                \n",
    "    return dist\n",
    "    \n",
    "    \n",
    "    "
   ]
  },
  {
   "cell_type": "code",
   "execution_count": 34,
   "metadata": {},
   "outputs": [
    {
     "data": {
      "text/plain": [
       "[0, 1, 3, 2, 7]"
      ]
     },
     "execution_count": 34,
     "metadata": {},
     "output_type": "execute_result"
    }
   ],
   "source": [
    "result = heap_dijkstra(StartNode)\n",
    "result"
   ]
  },
  {
   "cell_type": "code",
   "execution_count": null,
   "metadata": {},
   "outputs": [],
   "source": []
  },
  {
   "cell_type": "code",
   "execution_count": null,
   "metadata": {},
   "outputs": [],
   "source": []
  }
 ],
 "metadata": {
  "kernelspec": {
   "display_name": "Python 3",
   "language": "python",
   "name": "python3"
  },
  "language_info": {
   "codemirror_mode": {
    "name": "ipython",
    "version": 3
   },
   "file_extension": ".py",
   "mimetype": "text/x-python",
   "name": "python",
   "nbconvert_exporter": "python",
   "pygments_lexer": "ipython3",
   "version": "3.8.5"
  }
 },
 "nbformat": 4,
 "nbformat_minor": 4
}
